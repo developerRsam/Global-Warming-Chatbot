{
 "cells": [
  {
   "cell_type": "code",
   "execution_count": 1,
   "metadata": {},
   "outputs": [],
   "source": [
    "import numpy as np\n",
    "import nltk\n",
    "import io\n",
    "import random\n",
    "import string\n",
    "import warnings\n",
    "warnings.filterwarnings('ignore')"
   ]
  },
  {
   "cell_type": "code",
   "execution_count": 2,
   "metadata": {},
   "outputs": [],
   "source": [
    "f=open(r'C:\\Users\\acer\\Chatbot\\globalwarming.txt','r',errors = 'ignore')\n",
    "raw=f.read()\n",
    "raw=raw.lower()#lowercase conversion\n",
    "sent_tokens = nltk.sent_tokenize(raw) #list of sentences conversion\n",
    "word_tokens = nltk.word_tokenize(raw) #list of words conversion"
   ]
  },
  {
   "cell_type": "code",
   "execution_count": 3,
   "metadata": {},
   "outputs": [
    {
     "data": {
      "text/plain": [
       "[\"global warming is a long-term rise in the average temperature of the earth's climate system, an aspect of climate change shown by temperature measurements and by multiple effects of the warming.\",\n",
       " 'the term commonly refers to the mainly human-caused observed increase in global surface temperatures and its projected continuation, though there were also much earlier periods of global warming.']"
      ]
     },
     "execution_count": 3,
     "metadata": {},
     "output_type": "execute_result"
    }
   ],
   "source": [
    "sent_tokens[:2]"
   ]
  },
  {
   "cell_type": "code",
   "execution_count": 4,
   "metadata": {},
   "outputs": [
    {
     "data": {
      "text/plain": [
       "['global', 'warming']"
      ]
     },
     "execution_count": 4,
     "metadata": {},
     "output_type": "execute_result"
    }
   ],
   "source": [
    "word_tokens[:2]"
   ]
  },
  {
   "cell_type": "code",
   "execution_count": 5,
   "metadata": {},
   "outputs": [],
   "source": [
    "#lemmatization process\n",
    "lemm = nltk.stem.WordNetLemmatizer()\n",
    "def LemTokens(tokens):\n",
    "    return [lemm.lemmatize(token) for token in tokens]\n",
    "remove_punc_dict = dict((ord(punc), None) for punc in string.punctuation)\n",
    "def LemNormalize(text):\n",
    "    return LemTokens(nltk.word_tokenize(text.lower().translate(remove_punc_dict)))\n"
   ]
  },
  {
   "cell_type": "code",
   "execution_count": 6,
   "metadata": {},
   "outputs": [],
   "source": [
    "GREET_INPUTS = (\"hello\", \"hi\", \"greetings\", \"sup\", \"what up\", \"what's up\", \"hey\")\n",
    "GREET_RESPONSES = [\"hi\", \"hey\",\"*nods*\",\"hi there\",\"hello\",\"I am glad! You ate talking to me\"]\n",
    "def greeting(sentence):\n",
    "    for word in sentence.split():\n",
    "        if word.lower() in GREET_INPUTS:\n",
    "            return random.choice(GREET_RESPONSES)\n"
   ]
  },
  {
   "cell_type": "code",
   "execution_count": 7,
   "metadata": {},
   "outputs": [],
   "source": [
    "from sklearn.feature_extraction.text import TfidfVectorizer\n",
    "from sklearn.metrics.pairwise import cosine_similarity"
   ]
  },
  {
   "cell_type": "code",
   "execution_count": 8,
   "metadata": {},
   "outputs": [],
   "source": [
    "def response(user_response):\n",
    "    chatbot_response=''\n",
    "    sent_tokens.append(user_response)\n",
    "    TfidfVect = TfidfVectorizer(tokenizer=LemNormalize, stop_words='english')\n",
    "    tfidf = TfidfVect.fit_transform(sent_tokens)\n",
    "    vals = cosine_similarity(tfidf[-1], tfidf)\n",
    "    idx = vals.argsort()[0][-2]\n",
    "    flat = vals.flatten()\n",
    "    flat.sort()\n",
    "    req_tfidf = flat[-2]\n",
    "    if(req_tfidf==0):\n",
    "        chatbot_response = chatbot_response+\"I am Sorry! I didn't get you\"\n",
    "        return chatbot_response\n",
    "    else:\n",
    "        chatbot_response = chatbot_response+sent_tokens[idx]\n",
    "        return chatbot_response\n"
   ]
  },
  {
   "cell_type": "code",
   "execution_count": 9,
   "metadata": {},
   "outputs": [
    {
     "name": "stdout",
     "output_type": "stream",
     "text": [
      "Chatbot: My Name is RS. I Will answer your queries about Global Warming. If you want to exit, type Bye!\n",
      "Hello\n",
      "RS: hi there\n",
      "what is global warming?\n",
      "RS: global warming refers to global averages, with the amount of warming varying by region.\n",
      "matigation\n",
      "RS: I am Sorry! I didn't get you\n",
      "mitigation\n",
      "RS: mitigation\n",
      "mitigation of climate change is the reduction of greenhouse gas emissions, or the enhancement of the capacity of carbon sinks to absorb greenhouse gases from the atmosphere.\n",
      "effects on water\n",
      "RS: as water is a potent greenhouse gas, this further heats the climate: the water vapour feedback.\n",
      "history of global warming\n",
      "RS: global warming refers to global averages, with the amount of warming varying by region.\n",
      "thanks\n",
      "RS: You are welcome\n"
     ]
    }
   ],
   "source": [
    "flag=True\n",
    "print(\"Chatbot: My Name is RS. I Will answer your queries about Global Warming. If you want to exit, type Bye!\")\n",
    "while(flag==True):\n",
    "    user_response = input()\n",
    "    user_response = user_response.lower()\n",
    "    if(user_response!='bye'):\n",
    "        if(user_response=='thanks' or user_response=='thank you'):\n",
    "            flag=False\n",
    "            print(\"RS: You are welcome\")\n",
    "        else:\n",
    "            if(greeting(user_response)!=None):\n",
    "                print(\"RS: \"+greeting(user_response))\n",
    "            else:\n",
    "                print(\"RS: \",end=\"\")\n",
    "                print(response(user_response))\n",
    "                sent_tokens.remove(user_response)\n",
    "    else:\n",
    "        flag=False\n",
    "        print(\"RS: Bye! Take Care..\")"
   ]
  },
  {
   "cell_type": "code",
   "execution_count": null,
   "metadata": {},
   "outputs": [],
   "source": []
  }
 ],
 "metadata": {
  "kernelspec": {
   "display_name": "Python 3",
   "language": "python",
   "name": "python3"
  },
  "language_info": {
   "codemirror_mode": {
    "name": "ipython",
    "version": 3
   },
   "file_extension": ".py",
   "mimetype": "text/x-python",
   "name": "python",
   "nbconvert_exporter": "python",
   "pygments_lexer": "ipython3",
   "version": "3.6.8"
  }
 },
 "nbformat": 4,
 "nbformat_minor": 2
}
